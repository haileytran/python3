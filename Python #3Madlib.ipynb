{
 "cells": [
  {
   "cell_type": "markdown",
   "metadata": {},
   "source": [
    "# <font size=\"15\"> Python #3 </font>\n",
    "## Project 1: MADlib\n",
    "1. [Examples](#section1)\n",
    "2. [Preparation](#section2)\n",
    "3. [Implementation](#section3)  \n",
    "\n",
    "\n",
    " ## Contact:\n",
    "[Hailey Tran](mailto:hailey.tran@berkeley.edu) \n",
    "\n",
    "What concepts this project covers:\n",
    "1. Strings\n",
    "2. Variables\n",
    "3. Input function\n",
    "4. Combining strings and variables \n",
    "5. Assignment statements"
   ]
  },
  {
   "cell_type": "markdown",
   "metadata": {},
   "source": [
    "<a id='section1'></a>\n",
    "# Examples\n",
    "\n",
    "A MADlib is a template word game where one player asks others for a list of words to substitute for blanks in a story before reading aloud."
   ]
  },
  {
   "cell_type": "markdown",
   "metadata": {},
   "source": [
    "**Example 1** Here is an example of a MADlib story:"
   ]
  },
  {
   "cell_type": "code",
   "execution_count": null,
   "metadata": {},
   "outputs": [],
   "source": [
    "#Run this cell\n",
    "name1 = input(\"enter a name: \")\n",
    "noun1 = input(\"enter a noun/thing: \")\n",
    "name2 = input(\"enter a name: \")\n",
    "verb1 = input(\"enter a verb ending with -ing: \")\n",
    "name3 = input(\"enter a famous person: \")\n",
    "food1 = input(\"enter a weird food: \")\n",
    "noun2 = input(\"enter a noun/thing: \")\n",
    "place = input(\"enter a place: \")\n",
    "verb2 = input(\"enter an action verb with -ing: \")\n",
    "verb3 = input(\"enter an action verb with -ing: \")\n",
    "verb4 = input(\"enter an action verb with -ing: \")\n",
    "noun3 = input(\"enter a noun/thing: \")\n",
    "name4 = input(\"enter a school name: \")\n",
    "\n",
    "print(\"Hi! My name is \" + name1 + \" and I have a secret to share with you. I'm a normal child by day, and a \" + noun1 + \" by night. Only you and my best friend \" + name2 + \" know my secret. You may be wondering how this happened? Well, one night I was \" + verb1 + \" at home, and then BOOM! The lights went out and \" + name3 + \" showed up. He/she said in a booming voice, because your favorite food is \" + food1 + \" you have been chosen to be a \" + noun2 + \". My mission is to save the people of \" + place + \" by doing my favorite things: \" + verb2 +\",\"+ verb3+\", and \" + verb4 + \". This may sound easy, but it is no walk in the park. It requires hard work and a \" + noun3 + \". I save the world every night. But when I wake up in the morning, I go back to my normal life at \" + name4 + \" School!\")\n"
   ]
  },
  {
   "cell_type": "markdown",
   "metadata": {},
   "source": [
    "**Example 2** Here is an example of a MADlib poem:"
   ]
  },
  {
   "cell_type": "code",
   "execution_count": null,
   "metadata": {},
   "outputs": [],
   "source": [
    "noun = input(\"enter a noun: \")\n",
    "adjective = input(\"enter an adjective: \")\n",
    "\n",
    "print(\"Roses are red. Violets are blue. There isn't a \" + noun + \" as \" + adjective + \" as you.\")"
   ]
  },
  {
   "cell_type": "markdown",
   "metadata": {},
   "source": [
    "<a id='section2'></a>\n",
    "# Preparation\n",
    "\n",
    "We will be using the built-in `input` function to create our MADlibs. Below is a example of how to use it."
   ]
  },
  {
   "cell_type": "code",
   "execution_count": null,
   "metadata": {},
   "outputs": [],
   "source": [
    "#Run this cell\n",
    "color = input(\"What is your favorite color? \")\n",
    "print(\"Wow I love \" + color+ \" too!\")"
   ]
  },
  {
   "cell_type": "markdown",
   "metadata": {},
   "source": [
    "Notice how we used `+` to combine a variable and a string together."
   ]
  },
  {
   "cell_type": "markdown",
   "metadata": {},
   "source": [
    "**Question 1** Use the `input` function to print out \"Hi [any name]! Nice to meet you\" There should be an option for you to type in a name."
   ]
  },
  {
   "cell_type": "code",
   "execution_count": null,
   "metadata": {},
   "outputs": [],
   "source": []
  },
  {
   "cell_type": "markdown",
   "metadata": {},
   "source": [
    "<a id='section3'></a>\n",
    "# Implementation \n",
    "\n",
    "In the next cell, make your own MADlib. If you are having trouble, look at the example MADlibs above. Don't forget to have fun and be creative!"
   ]
  },
  {
   "cell_type": "code",
   "execution_count": null,
   "metadata": {},
   "outputs": [],
   "source": []
  }
 ],
 "metadata": {
  "kernelspec": {
   "display_name": "Python 3",
   "language": "python",
   "name": "python3"
  },
  "language_info": {
   "codemirror_mode": {
    "name": "ipython",
    "version": 3
   },
   "file_extension": ".py",
   "mimetype": "text/x-python",
   "name": "python",
   "nbconvert_exporter": "python",
   "pygments_lexer": "ipython3",
   "version": "3.6.9"
  }
 },
 "nbformat": 4,
 "nbformat_minor": 4
}
